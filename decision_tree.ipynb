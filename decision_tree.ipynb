{
 "cells": [
  {
   "cell_type": "code",
   "execution_count": 1,
   "metadata": {},
   "outputs": [],
   "source": [
    "import pandas as pd\n",
    "import numpy as np\n",
    "import matplotlib.pyplot as plt\n",
    "from scipy.optimize import curve_fit\n",
    "from sklearn.linear_model import LogisticRegression\n",
    "from sklearn.model_selection import GridSearchCV\n",
    "from sklearn.naive_bayes import MultinomialNB, GaussianNB\n",
    "from sklearn.ensemble import (RandomForestClassifier, ExtraTreesClassifier,\n",
    "                             AdaBoostClassifier)\n",
    "from sklearn.tree import DecisionTreeClassifier, plot_tree\n",
    "from sklearn.model_selection import train_test_split\n",
    "from sklearn.feature_extraction.text import (TfidfVectorizer, \n",
    "                                             CountVectorizer, \n",
    "                                             HashingVectorizer)\n",
    "from sklearn.preprocessing import normalize\n",
    "from sklearn import metrics\n",
    "from sklearn.model_selection import cross_val_score\n"
   ]
  },
  {
   "cell_type": "code",
   "execution_count": 2,
   "metadata": {},
   "outputs": [],
   "source": [
    "# col_names = ['id', 'comments', 'subreddits']\n",
    "# data = pd.read_csv('data/reddit_train.csv')\n",
    "# from dataProcessing import preProcessing\n",
    "# data = preProcessing(\"data/reddit_train.csv\")\n",
    "data = pd.read_pickle(\"ProcessedComments.pickle\")\n",
    "X_train, X_test, y_train, y_test = train_test_split(data['comments'],\n",
    "                                                    data['subreddits'],\n",
    "                                                    train_size=0.8)\n"
   ]
  },
  {
   "cell_type": "code",
   "execution_count": 6,
   "metadata": {},
   "outputs": [
    {
     "data": {
      "text/plain": [
       "numpy.ndarray"
      ]
     },
     "execution_count": 6,
     "metadata": {},
     "output_type": "execute_result"
    }
   ],
   "source": [
    "type(np.array(y_test))"
   ]
  },
  {
   "cell_type": "code",
   "execution_count": 7,
   "metadata": {},
   "outputs": [
    {
     "name": "stdout",
     "output_type": "stream",
     "text": [
      "(56000, 47944)\n"
     ]
    }
   ],
   "source": [
    "tf_idf_vectorizer = TfidfVectorizer(strip_accents='ascii',\n",
    "                                    ngram_range=(1,1))\n",
    "#                                     max_features=1000000)\n",
    "vectors_train_idf = normalize(tf_idf_vectorizer.fit_transform(X_train))\n",
    "print(vectors_train_idf.shape)\n",
    "vectors_test_idf = normalize(tf_idf_vectorizer.transform(X_test))"
   ]
  },
  {
   "cell_type": "code",
   "execution_count": 9,
   "metadata": {},
   "outputs": [],
   "source": [
    "from naive_bayes import BernoulliNB\n",
    "nb = BernoulliNB(alpha=1)\n",
    "nb.fit(vectors_train_idf, np.array(y_train))\n"
   ]
  },
  {
   "cell_type": "code",
   "execution_count": 11,
   "metadata": {},
   "outputs": [
    {
     "ename": "IndexError",
     "evalue": "tuple index out of range",
     "output_type": "error",
     "traceback": [
      "\u001b[0;31m---------------------------------------------------------------------------\u001b[0m",
      "\u001b[0;31mIndexError\u001b[0m                                Traceback (most recent call last)",
      "\u001b[0;32m<ipython-input-11-fdef1781cec5>\u001b[0m in \u001b[0;36m<module>\u001b[0;34m\u001b[0m\n\u001b[0;32m----> 1\u001b[0;31m \u001b[0mnb\u001b[0m\u001b[0;34m.\u001b[0m\u001b[0mpredict\u001b[0m\u001b[0;34m(\u001b[0m\u001b[0mnp\u001b[0m\u001b[0;34m.\u001b[0m\u001b[0marray\u001b[0m\u001b[0;34m(\u001b[0m\u001b[0mnp\u001b[0m\u001b[0;34m.\u001b[0m\u001b[0marray\u001b[0m\u001b[0;34m(\u001b[0m\u001b[0mvectors_test_idf\u001b[0m\u001b[0;34m)\u001b[0m\u001b[0;34m)\u001b[0m\u001b[0;34m)\u001b[0m\u001b[0;34m\u001b[0m\u001b[0;34m\u001b[0m\u001b[0m\n\u001b[0m",
      "\u001b[0;32m~/Dropbox/Documents/school/FALL2019/COMP551/COMP551-P2/naive_bayes.py\u001b[0m in \u001b[0;36mpredict\u001b[0;34m(self, X)\u001b[0m\n\u001b[1;32m     17\u001b[0m \u001b[0;34m\u001b[0m\u001b[0m\n\u001b[1;32m     18\u001b[0m     \u001b[0;32mdef\u001b[0m \u001b[0mpredict\u001b[0m\u001b[0;34m(\u001b[0m\u001b[0mself\u001b[0m\u001b[0;34m,\u001b[0m \u001b[0mX\u001b[0m\u001b[0;34m)\u001b[0m\u001b[0;34m:\u001b[0m\u001b[0;34m\u001b[0m\u001b[0;34m\u001b[0m\u001b[0m\n\u001b[0;32m---> 19\u001b[0;31m         \u001b[0mself\u001b[0m\u001b[0;34m.\u001b[0m\u001b[0mprediction\u001b[0m \u001b[0;34m=\u001b[0m \u001b[0mnp\u001b[0m\u001b[0;34m.\u001b[0m\u001b[0mempty\u001b[0m\u001b[0;34m(\u001b[0m\u001b[0mX\u001b[0m\u001b[0;34m.\u001b[0m\u001b[0mshape\u001b[0m\u001b[0;34m[\u001b[0m\u001b[0;36m0\u001b[0m\u001b[0;34m]\u001b[0m\u001b[0;34m,\u001b[0m \u001b[0mdtype\u001b[0m\u001b[0;34m=\u001b[0m\u001b[0mself\u001b[0m\u001b[0;34m.\u001b[0m\u001b[0mclasses\u001b[0m\u001b[0;34m.\u001b[0m\u001b[0mdtype\u001b[0m\u001b[0;34m)\u001b[0m \u001b[0;31m#initialize an array with predictions\u001b[0m\u001b[0;34m\u001b[0m\u001b[0;34m\u001b[0m\u001b[0m\n\u001b[0m\u001b[1;32m     20\u001b[0m         \u001b[0;32mfor\u001b[0m \u001b[0mi\u001b[0m \u001b[0;32min\u001b[0m \u001b[0mrange\u001b[0m\u001b[0;34m(\u001b[0m\u001b[0mX\u001b[0m\u001b[0;34m.\u001b[0m\u001b[0mshape\u001b[0m\u001b[0;34m[\u001b[0m\u001b[0;36m0\u001b[0m\u001b[0;34m]\u001b[0m\u001b[0;34m)\u001b[0m\u001b[0;34m:\u001b[0m\u001b[0;34m\u001b[0m\u001b[0;34m\u001b[0m\u001b[0m\n\u001b[1;32m     21\u001b[0m             \u001b[0mfirst_iter\u001b[0m \u001b[0;34m=\u001b[0m \u001b[0;32mTrue\u001b[0m\u001b[0;34m\u001b[0m\u001b[0;34m\u001b[0m\u001b[0m\n",
      "\u001b[0;31mIndexError\u001b[0m: tuple index out of range"
     ]
    }
   ],
   "source": [
    "nb.predict(np.array(np.array(vectors_test_idf)))"
   ]
  },
  {
   "cell_type": "code",
   "execution_count": 24,
   "metadata": {},
   "outputs": [
    {
     "name": "stdout",
     "output_type": "stream",
     "text": [
      "depth: 1, estimators: 1| 0.048928571428571425\n",
      "depth: 12, estimators: 1| 0.08\n",
      "depth: 23, estimators: 1| 0.09678571428571428\n",
      "depth: 34, estimators: 1| 0.10521428571428572\n",
      "depth: 45, estimators: 1| 0.13485714285714287\n",
      "depth: 56, estimators: 1| 0.13542857142857143\n",
      "depth: 67, estimators: 1| 0.13135714285714287\n",
      "depth: 78, estimators: 1| 0.14157142857142857\n",
      "depth: 89, estimators: 1| 0.15257142857142858\n",
      "depth: 100, estimators: 1| 0.14714285714285713\n",
      "depth: 1, estimators: 11| 0.062142857142857146\n",
      "depth: 12, estimators: 11| 0.21842857142857142\n",
      "depth: 23, estimators: 11| 0.2577857142857143\n",
      "depth: 34, estimators: 11| 0.2922142857142857\n",
      "depth: 45, estimators: 11| 0.3042142857142857\n",
      "depth: 56, estimators: 11| 0.31657142857142856\n",
      "depth: 67, estimators: 11| 0.32557142857142857\n",
      "depth: 78, estimators: 11| 0.3284285714285714\n",
      "depth: 89, estimators: 11| 0.3255\n",
      "depth: 100, estimators: 11| 0.341\n",
      "depth: 1, estimators: 21| 0.08871428571428572\n",
      "depth: 12, estimators: 21| 0.24457142857142858\n",
      "depth: 23, estimators: 21| 0.31\n",
      "depth: 34, estimators: 21| 0.333\n",
      "depth: 45, estimators: 21| 0.3492857142857143\n",
      "depth: 56, estimators: 21| 0.35778571428571426\n",
      "depth: 67, estimators: 21| 0.36857142857142855\n",
      "depth: 78, estimators: 21| 0.3698571428571429\n",
      "depth: 89, estimators: 21| 0.3792142857142857\n",
      "depth: 100, estimators: 21| 0.37335714285714283\n",
      "depth: 1, estimators: 32| 0.10185714285714285\n",
      "depth: 12, estimators: 32| 0.2865\n",
      "depth: 23, estimators: 32| 0.3417857142857143\n",
      "depth: 34, estimators: 32| 0.36942857142857144\n",
      "depth: 45, estimators: 32| 0.37935714285714284\n",
      "depth: 56, estimators: 32| 0.38242857142857145\n",
      "depth: 67, estimators: 32| 0.3876428571428571\n",
      "depth: 78, estimators: 32| 0.39207142857142857\n",
      "depth: 89, estimators: 32| 0.3970714285714286\n",
      "depth: 100, estimators: 32| 0.3960714285714286\n",
      "depth: 1, estimators: 42| 0.11535714285714285\n",
      "depth: 12, estimators: 42| 0.31107142857142855\n",
      "depth: 23, estimators: 42| 0.362\n",
      "depth: 34, estimators: 42| 0.38335714285714284\n",
      "depth: 45, estimators: 42| 0.39121428571428574\n",
      "depth: 56, estimators: 42| 0.3975\n",
      "depth: 67, estimators: 42| 0.4025\n",
      "depth: 78, estimators: 42| 0.4079285714285714\n",
      "depth: 89, estimators: 42| 0.4085\n",
      "depth: 100, estimators: 42| 0.4130714285714286\n",
      "depth: 1, estimators: 53| 0.10785714285714286\n",
      "depth: 12, estimators: 53| 0.32957142857142857\n",
      "depth: 23, estimators: 53| 0.37414285714285717\n",
      "depth: 34, estimators: 53| 0.3912857142857143\n",
      "depth: 45, estimators: 53| 0.3980714285714286\n",
      "depth: 56, estimators: 53| 0.4080714285714286\n",
      "depth: 67, estimators: 53| 0.41285714285714287\n",
      "depth: 78, estimators: 53| 0.41064285714285714\n",
      "depth: 89, estimators: 53| 0.4182142857142857\n",
      "depth: 100, estimators: 53| 0.4205\n",
      "depth: 1, estimators: 63| 0.12992857142857142\n",
      "depth: 12, estimators: 63| 0.3452142857142857\n",
      "depth: 23, estimators: 63| 0.3847857142857143\n",
      "depth: 34, estimators: 63| 0.39271428571428574\n",
      "depth: 45, estimators: 63| 0.4079285714285714\n",
      "depth: 56, estimators: 63| 0.41114285714285714\n",
      "depth: 67, estimators: 63| 0.4205714285714286\n",
      "depth: 78, estimators: 63| 0.42078571428571426\n",
      "depth: 89, estimators: 63| 0.42292857142857143\n",
      "depth: 100, estimators: 63| 0.42907142857142855\n",
      "depth: 1, estimators: 74| 0.13314285714285715\n",
      "depth: 12, estimators: 74| 0.3603571428571429\n",
      "depth: 23, estimators: 74| 0.3964285714285714\n",
      "depth: 34, estimators: 74| 0.4047857142857143\n",
      "depth: 45, estimators: 74| 0.41485714285714287\n",
      "depth: 56, estimators: 74| 0.42342857142857143\n",
      "depth: 67, estimators: 74| 0.42028571428571426\n",
      "depth: 78, estimators: 74| 0.42978571428571427\n",
      "depth: 89, estimators: 74| 0.4283571428571429\n",
      "depth: 100, estimators: 74| 0.43078571428571427\n",
      "depth: 1, estimators: 84| 0.11078571428571428\n",
      "depth: 12, estimators: 84| 0.36557142857142855\n",
      "depth: 23, estimators: 84| 0.3950714285714286\n",
      "depth: 34, estimators: 84| 0.4097142857142857\n",
      "depth: 45, estimators: 84| 0.41828571428571426\n",
      "depth: 56, estimators: 84| 0.42757142857142855\n",
      "depth: 67, estimators: 84| 0.42692857142857144\n",
      "depth: 78, estimators: 84| 0.43207142857142855\n",
      "depth: 89, estimators: 84| 0.43057142857142855\n",
      "depth: 100, estimators: 84| 0.4332142857142857\n",
      "depth: 1, estimators: 95| 0.15721428571428572\n",
      "depth: 12, estimators: 95| 0.36092857142857143\n",
      "depth: 23, estimators: 95| 0.3974285714285714\n",
      "depth: 34, estimators: 95| 0.4147142857142857\n",
      "depth: 45, estimators: 95| 0.4197142857142857\n",
      "depth: 56, estimators: 95| 0.42807142857142855\n",
      "depth: 67, estimators: 95| 0.4287142857142857\n",
      "depth: 78, estimators: 95| 0.4312142857142857\n",
      "depth: 89, estimators: 95| 0.43514285714285716\n",
      "depth: 100, estimators: 95| 0.43857142857142856\n",
      "depth: 1, estimators: 105| 0.14585714285714285\n",
      "depth: 12, estimators: 105| 0.37085714285714283\n",
      "depth: 23, estimators: 105| 0.40014285714285713\n",
      "depth: 34, estimators: 105| 0.41614285714285715\n",
      "depth: 45, estimators: 105| 0.42464285714285716\n",
      "depth: 56, estimators: 105| 0.43092857142857144\n",
      "depth: 67, estimators: 105| 0.43614285714285717\n",
      "depth: 78, estimators: 105| 0.43192857142857144\n",
      "depth: 89, estimators: 105| 0.43514285714285716\n",
      "depth: 100, estimators: 105| 0.4382142857142857\n",
      "depth: 1, estimators: 116| 0.16407142857142856\n",
      "depth: 12, estimators: 116| 0.37264285714285716\n",
      "depth: 23, estimators: 116| 0.4082857142857143\n",
      "depth: 34, estimators: 116| 0.4195\n",
      "depth: 45, estimators: 116| 0.4273571428571429\n",
      "depth: 56, estimators: 116| 0.43107142857142855\n",
      "depth: 67, estimators: 116| 0.43314285714285716\n",
      "depth: 78, estimators: 116| 0.44157142857142856\n",
      "depth: 89, estimators: 116| 0.44114285714285717\n",
      "depth: 100, estimators: 116| 0.4397142857142857\n",
      "depth: 1, estimators: 126| 0.14514285714285713\n",
      "depth: 12, estimators: 126| 0.37735714285714284\n",
      "depth: 23, estimators: 126| 0.4100714285714286\n",
      "depth: 34, estimators: 126| 0.425\n",
      "depth: 45, estimators: 126| 0.428\n",
      "depth: 56, estimators: 126| 0.4272142857142857\n",
      "depth: 67, estimators: 126| 0.43507142857142855\n",
      "depth: 78, estimators: 126| 0.4392857142857143\n",
      "depth: 89, estimators: 126| 0.44057142857142856\n",
      "depth: 100, estimators: 126| 0.44607142857142856\n",
      "depth: 1, estimators: 137| 0.17942857142857144\n",
      "depth: 12, estimators: 137| 0.3821428571428571\n",
      "depth: 23, estimators: 137| 0.415\n",
      "depth: 34, estimators: 137| 0.4228571428571429\n",
      "depth: 45, estimators: 137| 0.431\n",
      "depth: 56, estimators: 137| 0.4297142857142857\n",
      "depth: 67, estimators: 137| 0.4392142857142857\n",
      "depth: 78, estimators: 137| 0.4392857142857143\n",
      "depth: 89, estimators: 137| 0.44357142857142856\n",
      "depth: 100, estimators: 137| 0.44592857142857145\n",
      "depth: 1, estimators: 147| 0.18685714285714286\n",
      "depth: 12, estimators: 147| 0.38457142857142856\n",
      "depth: 23, estimators: 147| 0.4137857142857143\n",
      "depth: 34, estimators: 147| 0.42614285714285716\n",
      "depth: 45, estimators: 147| 0.4325\n",
      "depth: 56, estimators: 147| 0.4342857142857143\n",
      "depth: 67, estimators: 147| 0.43757142857142856\n",
      "depth: 78, estimators: 147| 0.4422857142857143\n",
      "depth: 89, estimators: 147| 0.4467857142857143\n",
      "depth: 100, estimators: 147| 0.44621428571428573\n",
      "depth: 1, estimators: 158| 0.17792857142857144\n",
      "depth: 12, estimators: 158| 0.3914285714285714\n",
      "depth: 23, estimators: 158| 0.41464285714285715\n",
      "depth: 34, estimators: 158| 0.4233571428571429\n",
      "depth: 45, estimators: 158| 0.4322142857142857\n",
      "depth: 56, estimators: 158| 0.4352142857142857\n",
      "depth: 67, estimators: 158| 0.437\n",
      "depth: 78, estimators: 158| 0.4382857142857143\n",
      "depth: 89, estimators: 158| 0.4461428571428571\n",
      "depth: 100, estimators: 158| 0.4509285714285714\n",
      "depth: 1, estimators: 168| 0.1697142857142857\n",
      "depth: 12, estimators: 168| 0.38921428571428573\n",
      "depth: 23, estimators: 168| 0.4145\n",
      "depth: 34, estimators: 168| 0.42914285714285716\n",
      "depth: 45, estimators: 168| 0.4322142857142857\n",
      "depth: 56, estimators: 168| 0.4415\n",
      "depth: 67, estimators: 168| 0.4387857142857143\n",
      "depth: 78, estimators: 168| 0.4452857142857143\n",
      "depth: 89, estimators: 168| 0.44635714285714284\n",
      "depth: 100, estimators: 168| 0.4465\n",
      "depth: 1, estimators: 179| 0.19714285714285715\n",
      "depth: 12, estimators: 179| 0.3926428571428571\n",
      "depth: 23, estimators: 179| 0.4198571428571429\n",
      "depth: 34, estimators: 179| 0.42742857142857144\n",
      "depth: 45, estimators: 179| 0.43292857142857144\n",
      "depth: 56, estimators: 179| 0.43635714285714283\n",
      "depth: 67, estimators: 179| 0.44157142857142856\n",
      "depth: 78, estimators: 179| 0.44571428571428573\n",
      "depth: 89, estimators: 179| 0.44807142857142856\n",
      "depth: 100, estimators: 179| 0.44807142857142856\n",
      "depth: 1, estimators: 189| 0.18557142857142858\n"
     ]
    },
    {
     "name": "stdout",
     "output_type": "stream",
     "text": [
      "depth: 12, estimators: 189| 0.3906428571428571\n",
      "depth: 23, estimators: 189| 0.42128571428571426\n",
      "depth: 34, estimators: 189| 0.42814285714285716\n",
      "depth: 45, estimators: 189| 0.43735714285714283\n",
      "depth: 56, estimators: 189| 0.43935714285714284\n",
      "depth: 67, estimators: 189| 0.4457857142857143\n",
      "depth: 78, estimators: 189| 0.44821428571428573\n",
      "depth: 89, estimators: 189| 0.4482857142857143\n",
      "depth: 100, estimators: 189| 0.45\n",
      "depth: 1, estimators: 200| 0.20364285714285715\n",
      "depth: 12, estimators: 200| 0.39585714285714285\n",
      "depth: 23, estimators: 200| 0.42114285714285715\n",
      "depth: 34, estimators: 200| 0.4313571428571429\n",
      "depth: 45, estimators: 200| 0.43442857142857144\n",
      "depth: 56, estimators: 200| 0.44292857142857145\n",
      "depth: 67, estimators: 200| 0.4422857142857143\n",
      "depth: 78, estimators: 200| 0.44507142857142856\n",
      "depth: 89, estimators: 200| 0.4495\n",
      "depth: 100, estimators: 200| 0.44985714285714284\n"
     ]
    }
   ],
   "source": [
    "estis = np.linspace(1, 200, 20).astype(int)\n",
    "depths = np.linspace(1, 100, 10).astype(int)\n",
    "param_space = np.zeros((len(estis), len(depths)))\n",
    "for i, esti in zip(range(len(estis)), estis):\n",
    "    for j, depth in zip(range(len(depths)), depths):\n",
    "        rf_clf = RandomForestClassifier(n_estimators=esti,\n",
    "                                        max_depth=depth)\n",
    "        rf_cld = rf_clf.fit(vectors_train_idf, y_train)\n",
    "        rf_y_pred = rf_clf.predict(vectors_test_idf)\n",
    "        rf_acc = metrics.accuracy_score(y_test, rf_y_pred)\n",
    "        param_space[i,j] = rf_acc\n",
    "        print(F\"depth: {depth}, estimators: {esti}\"\n",
    "              F\"| {rf_acc}\")\n",
    "# print(metrics.classification_report(y_test, rf_y_pred))"
   ]
  },
  {
   "cell_type": "code",
   "execution_count": 13,
   "metadata": {},
   "outputs": [
    {
     "name": "stdout",
     "output_type": "stream",
     "text": [
      "a:0.04254362300016268, b:93.83587588702066, c:-78.11006552504483\n",
      "a:0.033652113563491876, b:2583.5855549184666, c:-2518.4308652292657\n"
     ]
    },
    {
     "data": {
      "image/png": "[encoded data removed]",
      "text/plain": [
       "<Figure size 432x360 with 2 Axes>"
      ]
     },
     "metadata": {
      "needs_background": "light"
     },
     "output_type": "display_data"
    },
    {
     "data": {
      "image/png": "[encoded data removed]",
      "text/plain": [
       "<Figure size 432x288 with 1 Axes>"
      ]
     },
     "metadata": {
      "needs_background": "light"
     },
     "output_type": "display_data"
    },
    {
     "data": {
      "image/png": "[encoded data removed]",
      "text/plain": [
       "<Figure size 432x288 with 1 Axes>"
      ]
     },
     "metadata": {
      "needs_background": "light"
     },
     "output_type": "display_data"
    }
   ],
   "source": [
    "# np.save('rfdt_param_space', [param_space, estis, depths])\n",
    "[param_space, estis, depths] = np.load('rfdt_param_space.npy', \n",
    "                                       allow_pickle=True)\n",
    "plt.figure(figsize=(6,5))\n",
    "plt.imshow(param_space, extent=(estis[0], estis[-1],\n",
    "                                depths[-1], depths[0]))\n",
    "plt.colorbar()\n",
    "plt.xlabel(\"n_estimators\")\n",
    "plt.ylabel(\"max_depth\")\n",
    "\n",
    "plt.figure()\n",
    "plt.plot(estis, np.mean(param_space, axis=1))\n",
    "func = lambda x, a, b, c: a * np.log(b * x + c)\n",
    "popt, pcov = curve_fit(func, estis, np.mean(param_space, axis=1))\n",
    "print(F\"a:{popt[0]}, b:{popt[1]}, c:{popt[2]}\")\n",
    "space = np.linspace(1, 200, 1000)\n",
    "plt.plot(space, func(space, *popt))\n",
    "\n",
    "\n",
    "plt.figure()\n",
    "plt.plot(depths, np.mean(param_space, axis=0))\n",
    "popt, pcov = curve_fit(func, depths, np.mean(param_space, axis=0))\n",
    "print(F\"a:{popt[0]}, b:{popt[1]}, c:{popt[2]}\")\n",
    "plt.plot(space, func(space, *popt))\n",
    "# plt.plot(depths, param_space[-1,:])\n",
    "\n",
    "plt.show()"
   ]
  },
  {
   "cell_type": "code",
   "execution_count": 4,
   "metadata": {},
   "outputs": [
    {
     "name": "stdout",
     "output_type": "stream",
     "text": [
      "depth = 795\n",
      "                 precision    recall  f1-score   support\n",
      "\n",
      "      AskReddit       0.12      0.13      0.12       694\n",
      "GlobalOffensive       0.24      0.27      0.25       680\n",
      "          Music       0.43      0.43      0.43       668\n",
      "      Overwatch       0.39      0.34      0.36       731\n",
      "          anime       0.34      0.31      0.32       672\n",
      "       baseball       0.24      0.24      0.24       705\n",
      "         canada       0.25      0.26      0.25       721\n",
      "     conspiracy       0.19      0.17      0.18       750\n",
      "         europe       0.23      0.24      0.23       703\n",
      "          funny       0.09      0.10      0.10       708\n",
      "  gameofthrones       0.47      0.47      0.47       704\n",
      "         hockey       0.21      0.23      0.22       679\n",
      "leagueoflegends       0.23      0.22      0.23       651\n",
      "         movies       0.32      0.34      0.33       706\n",
      "            nba       0.27      0.27      0.27       683\n",
      "            nfl       0.22      0.21      0.21       723\n",
      "         soccer       0.23      0.23      0.23       692\n",
      "          trees       0.24      0.28      0.26       698\n",
      "      worldnews       0.16      0.13      0.14       751\n",
      "            wow       0.32      0.30      0.31       681\n",
      "\n",
      "       accuracy                           0.26     14000\n",
      "      macro avg       0.26      0.26      0.26     14000\n",
      "   weighted avg       0.26      0.26      0.26     14000\n",
      "\n"
     ]
    }
   ],
   "source": [
    "dt_clf = DecisionTreeClassifier(criterion=\"gini\")\n",
    "dt_cld = dt_clf.fit(vectors_train_idf, y_train)\n",
    "dt_y_pred = dt_clf.predict(vectors_test_idf)\n",
    "print(F\"depth = {dt_cld.get_depth()}\")\n",
    "print(metrics.classification_report(y_test, dt_y_pred))\n",
    "kf_scores = cross_val_score(dt_clf, vectors_train_idf, y_train, cv=5)\n"
   ]
  },
  {
   "cell_type": "code",
   "execution_count": 5,
   "metadata": {},
   "outputs": [],
   "source": [
    "# plt.figure(figsize=(15,15), dpi=1000)\n",
    "# plot_tree(cld, feature_names=tf_idf_vectorizer.get_feature_names(),\n",
    "#                class_names=data['subreddits'],\n",
    "#                fontsize=5)\n",
    "# plt.savefig('reddit_tree.png')\n",
    "# plt.show()\n",
    "# plt.savefig('reddit_tree.png')"
   ]
  },
  {
   "cell_type": "code",
   "execution_count": 195,
   "metadata": {},
   "outputs": [
    {
     "name": "stdout",
     "output_type": "stream",
     "text": [
      "                 precision    recall  f1-score   support\n",
      "\n",
      "      AskReddit       0.18      0.23      0.20       647\n",
      "GlobalOffensive       0.69      0.43      0.53       723\n",
      "          Music       0.76      0.59      0.67       746\n",
      "      Overwatch       0.78      0.56      0.65       781\n",
      "          anime       0.50      0.55      0.52       693\n",
      "       baseball       0.66      0.47      0.55       698\n",
      "         canada       0.54      0.39      0.45       734\n",
      "     conspiracy       0.38      0.36      0.37       680\n",
      "         europe       0.43      0.43      0.43       687\n",
      "          funny       0.11      0.42      0.17       689\n",
      "  gameofthrones       0.78      0.65      0.71       702\n",
      "         hockey       0.58      0.43      0.50       702\n",
      "leagueoflegends       0.51      0.53      0.52       675\n",
      "         movies       0.61      0.49      0.54       712\n",
      "            nba       0.62      0.50      0.55       685\n",
      "            nfl       0.54      0.49      0.51       692\n",
      "         soccer       0.54      0.46      0.50       678\n",
      "          trees       0.51      0.45      0.48       699\n",
      "      worldnews       0.32      0.18      0.23       687\n",
      "            wow       0.69      0.67      0.68       690\n",
      "\n",
      "       accuracy                           0.46     14000\n",
      "      macro avg       0.54      0.46      0.49     14000\n",
      "   weighted avg       0.54      0.46      0.49     14000\n",
      "\n"
     ]
    }
   ],
   "source": [
    "rf_clf = RandomForestClassifier(n_estimators=400,\n",
    "                                max_depth=30)\n",
    "rf_cld = rf_clf.fit(vectors_train_idf, y_train)\n",
    "rf_y_pred = rf_clf.predict(vectors_test_idf)\n",
    "print(metrics.classification_report(y_test, rf_y_pred))\n",
    "# print(np.mean(cross_val_score(rf_clf, vectors_train_idf, y_train, cv=5)))\n"
   ]
  },
  {
   "cell_type": "code",
   "execution_count": 196,
   "metadata": {},
   "outputs": [
    {
     "name": "stdout",
     "output_type": "stream",
     "text": [
      "                 precision    recall  f1-score   support\n",
      "\n",
      "      AskReddit       0.10      0.62      0.17       647\n",
      "GlobalOffensive       0.77      0.41      0.53       723\n",
      "          Music       0.84      0.48      0.61       746\n",
      "      Overwatch       0.85      0.48      0.61       781\n",
      "          anime       0.57      0.55      0.56       693\n",
      "       baseball       0.69      0.48      0.56       698\n",
      "         canada       0.63      0.33      0.43       734\n",
      "     conspiracy       0.36      0.35      0.35       680\n",
      "         europe       0.43      0.37      0.40       687\n",
      "          funny       0.18      0.03      0.05       689\n",
      "  gameofthrones       0.84      0.64      0.72       702\n",
      "         hockey       0.69      0.45      0.55       702\n",
      "leagueoflegends       0.55      0.55      0.55       675\n",
      "         movies       0.64      0.50      0.56       712\n",
      "            nba       0.63      0.53      0.58       685\n",
      "            nfl       0.54      0.50      0.52       692\n",
      "         soccer       0.45      0.52      0.48       678\n",
      "          trees       0.60      0.42      0.49       699\n",
      "      worldnews       0.34      0.16      0.22       687\n",
      "            wow       0.66      0.66      0.66       690\n",
      "\n",
      "       accuracy                           0.45     14000\n",
      "      macro avg       0.57      0.45      0.48     14000\n",
      "   weighted avg       0.57      0.45      0.48     14000\n",
      "\n"
     ]
    }
   ],
   "source": [
    "et_clf = ExtraTreesClassifier(n_estimators=500,\n",
    "                              max_depth=20)\n",
    "et_cld = et_clf.fit(vectors_train_idf, y_train)\n",
    "et_y_pred = et_clf.predict(vectors_test_idf)\n",
    "print(metrics.classification_report(y_test, et_y_pred))\n",
    "# fold = 3\n",
    "# print(F\"{fold} fold mean acc: \"\n",
    "#       F\"{np.mean(cross_val_score(ab_dt_clf, vectors_train_idf, y_train, cv=fold))}\")"
   ]
  },
  {
   "cell_type": "code",
   "execution_count": 198,
   "metadata": {},
   "outputs": [
    {
     "name": "stdout",
     "output_type": "stream",
     "text": [
      "                 precision    recall  f1-score   support\n",
      "\n",
      "      AskReddit       0.12      0.24      0.16       647\n",
      "GlobalOffensive       0.45      0.37      0.41       723\n",
      "          Music       0.69      0.51      0.59       746\n",
      "      Overwatch       0.64      0.45      0.53       781\n",
      "          anime       0.47      0.41      0.44       693\n",
      "       baseball       0.50      0.40      0.45       698\n",
      "         canada       0.44      0.27      0.34       734\n",
      "     conspiracy       0.26      0.25      0.25       680\n",
      "         europe       0.42      0.24      0.31       687\n",
      "          funny       0.10      0.36      0.16       689\n",
      "  gameofthrones       0.62      0.57      0.60       702\n",
      "         hockey       0.37      0.32      0.35       702\n",
      "leagueoflegends       0.48      0.39      0.43       675\n",
      "         movies       0.48      0.37      0.41       712\n",
      "            nba       0.45      0.40      0.42       685\n",
      "            nfl       0.43      0.38      0.40       692\n",
      "         soccer       0.46      0.37      0.41       678\n",
      "          trees       0.47      0.37      0.41       699\n",
      "      worldnews       0.22      0.20      0.21       687\n",
      "            wow       0.64      0.50      0.56       690\n",
      "\n",
      "       accuracy                           0.37     14000\n",
      "      macro avg       0.44      0.37      0.39     14000\n",
      "   weighted avg       0.44      0.37      0.39     14000\n",
      "\n"
     ]
    }
   ],
   "source": [
    "ab_dt_clf = AdaBoostClassifier(DecisionTreeClassifier(max_depth=10),\n",
    "                               n_estimators=100,\n",
    "                               learning_rate=1)\n",
    "ab_dt_cld = ab_dt_clf.fit(vectors_train_idf, y_train)\n",
    "ab_dt_y_pred = ab_dt_clf.predict(vectors_test_idf)\n",
    "print(metrics.classification_report(y_test, ab_dt_y_pred))\n",
    "# fold = 3\n",
    "# print(F\"{fold} fold mean acc: \"\n",
    "#       F\"{np.mean(cross_val_score(ab_dt_clf, vectors_train_idf, y_train, cv=fold))}\")\n"
   ]
  },
  {
   "cell_type": "code",
   "execution_count": null,
   "metadata": {},
   "outputs": [],
   "source": [
    "ab_et_clf = AdaBoostClassifier(ExtraTreesClassifier(n_estimators=5,\n",
    "                                                    max_depth=20), \n",
    "                               n_estimators=100)\n",
    "ab_et_cld = ab_et_clf.fit(vectors_train_idf, y_train)\n",
    "ab_et_y_pred = ab_et_clf.predict(vectors_test_idf)\n",
    "print(metrics.classification_report(y_test, ab_et_y_pred))\n",
    "fold = 3\n",
    "print(F\"{fold} fold mean acc: {np.mean(cross_val_score(ab_et_clf, vectors_train_idf, y_train, cv=fold))}\")\n"
   ]
  },
  {
   "cell_type": "code",
   "execution_count": 141,
   "metadata": {},
   "outputs": [
    {
     "name": "stdout",
     "output_type": "stream",
     "text": [
      "(56000, 65728)\n"
     ]
    }
   ],
   "source": [
    "count_vectorizer = CountVectorizer(strip_accents='ascii',\n",
    "                                    stop_words='english',\n",
    "                                    ngram_range=(1,1))\n",
    "vectors_train_count = normalize(count_vectorizer.fit_transform(X_train))\n",
    "print(vectors_train_count.shape)\n",
    "# print(tf_idf_vectorizer.stop_words_)\n",
    "vectors_test_count = normalize(count_vectorizer.transform(X_test))"
   ]
  },
  {
   "cell_type": "code",
   "execution_count": 197,
   "metadata": {},
   "outputs": [
    {
     "name": "stdout",
     "output_type": "stream",
     "text": [
      "                 precision    recall  f1-score   support\n",
      "\n",
      "      AskReddit       0.18      0.42      0.25       647\n",
      "GlobalOffensive       0.61      0.51      0.55       723\n",
      "          Music       0.78      0.57      0.66       746\n",
      "      Overwatch       0.79      0.49      0.61       781\n",
      "          anime       0.55      0.54      0.54       693\n",
      "       baseball       0.67      0.49      0.57       698\n",
      "         canada       0.49      0.41      0.45       734\n",
      "     conspiracy       0.34      0.46      0.39       680\n",
      "         europe       0.44      0.39      0.41       687\n",
      "          funny       0.15      0.33      0.21       689\n",
      "  gameofthrones       0.79      0.60      0.68       702\n",
      "         hockey       0.58      0.47      0.52       702\n",
      "leagueoflegends       0.60      0.50      0.55       675\n",
      "         movies       0.61      0.50      0.55       712\n",
      "            nba       0.64      0.50      0.56       685\n",
      "            nfl       0.54      0.52      0.53       692\n",
      "         soccer       0.55      0.48      0.51       678\n",
      "          trees       0.46      0.48      0.47       699\n",
      "      worldnews       0.30      0.31      0.30       687\n",
      "            wow       0.79      0.59      0.67       690\n",
      "\n",
      "       accuracy                           0.48     14000\n",
      "      macro avg       0.54      0.48      0.50     14000\n",
      "   weighted avg       0.55      0.48      0.50     14000\n",
      "\n"
     ]
    }
   ],
   "source": [
    "ab_nb_clf = AdaBoostClassifier(MultinomialNB(alpha=0.001),\n",
    "                               n_estimators=60)\n",
    "ab_nb_cld = ab_nb_clf.fit(vectors_train_idf, y_train)\n",
    "ab_nb_y_pred = ab_nb_clf.predict(vectors_test_idf)\n",
    "print(metrics.classification_report(y_test, ab_nb_y_pred))\n",
    "# fold = 3\n",
    "# print(F\"{fold} fold mean acc: \"\n",
    "#       F\"{np.mean(cross_val_score(ab_nb_clf, vectors_train_idf, y_train, cv=fold))}\")\n"
   ]
  },
  {
   "cell_type": "code",
   "execution_count": null,
   "metadata": {},
   "outputs": [],
   "source": []
  }
 ],
 "metadata": {
  "kernelspec": {
   "display_name": "Python 3",
   "language": "python",
   "name": "python3"
  },
  "language_info": {
   "codemirror_mode": {
    "name": "ipython",
    "version": 3
   },
   "file_extension": ".py",
   "mimetype": "text/x-python",
   "name": "python",
   "nbconvert_exporter": "python",
   "pygments_lexer": "ipython3",
   "version": "3.7.3"
  }
 },
 "nbformat": 4,
 "nbformat_minor": 2
}
